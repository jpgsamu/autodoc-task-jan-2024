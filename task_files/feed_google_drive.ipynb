{
 "cells": [
  {
   "cell_type": "markdown",
   "metadata": {},
   "source": [
    "Importing Packages"
   ]
  },
  {
   "cell_type": "code",
   "execution_count": 2,
   "metadata": {},
   "outputs": [],
   "source": [
    "import pandas as pd\n",
    "import sqlalchemy"
   ]
  },
  {
   "cell_type": "markdown",
   "metadata": {},
   "source": [
    "References in my machine"
   ]
  },
  {
   "cell_type": "code",
   "execution_count": 3,
   "metadata": {},
   "outputs": [],
   "source": [
    "DB_PATH = r\"C:\\Users\\jpgsa\\Documents\\GitHub\\autodoc-task\\autodoc-task-jan-2024\\database_files\\task_dataset.db\"\n",
    "DRIVE_PATH = r\"G:\\Meu Drive\\autodoc_task\" + \"\\\\\""
   ]
  },
  {
   "cell_type": "markdown",
   "metadata": {},
   "source": [
    "Creating DFs"
   ]
  },
  {
   "cell_type": "code",
   "execution_count": 4,
   "metadata": {},
   "outputs": [],
   "source": [
    "engine = sqlalchemy.create_engine(\"sqlite:///\" + DB_PATH)\n",
    "\n",
    "df_sessions =  pd.read_sql_table('tb_sessions', engine)\n",
    "df_users =  pd.read_sql_table('tb_users', engine)\n",
    "df_products =  pd.read_sql_table('tb_products', engine)"
   ]
  },
  {
   "cell_type": "markdown",
   "metadata": {},
   "source": [
    "Uploading DF as csv files into my Google Drive folder"
   ]
  },
  {
   "cell_type": "code",
   "execution_count": 6,
   "metadata": {},
   "outputs": [],
   "source": [
    "df_sessions.to_csv(DRIVE_PATH + \"tb_sessions.csv\", index=False)\n",
    "df_users.to_csv(DRIVE_PATH + \"tb_users.csv\", index=False)\n",
    "df_products.to_csv(DRIVE_PATH + \"tb_products.csv\", index=False)\n",
    "\n",
    "# Also saving them in the current folder, to be saved in github\n",
    "df_sessions.to_csv(\"tb_sessions.csv\", index=False)\n",
    "df_users.to_csv(\"tb_users.csv\", index=False)\n",
    "df_products.to_csv(\"tb_products.csv\", index=False)"
   ]
  }
 ],
 "metadata": {
  "kernelspec": {
   "display_name": "Python 3",
   "language": "python",
   "name": "python3"
  },
  "language_info": {
   "codemirror_mode": {
    "name": "ipython",
    "version": 3
   },
   "file_extension": ".py",
   "mimetype": "text/x-python",
   "name": "python",
   "nbconvert_exporter": "python",
   "pygments_lexer": "ipython3",
   "version": "3.10.1"
  }
 },
 "nbformat": 4,
 "nbformat_minor": 2
}
