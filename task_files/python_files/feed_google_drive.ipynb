{
 "cells": [
  {
   "cell_type": "markdown",
   "metadata": {},
   "source": [
    "Importing Packages"
   ]
  },
  {
   "cell_type": "code",
   "execution_count": 26,
   "metadata": {},
   "outputs": [],
   "source": [
    "import pandas as pd\n",
    "import sqlalchemy"
   ]
  },
  {
   "cell_type": "markdown",
   "metadata": {},
   "source": [
    "References in my machine"
   ]
  },
  {
   "cell_type": "code",
   "execution_count": 27,
   "metadata": {},
   "outputs": [],
   "source": [
    "DB_PATH = r\"C:\\Users\\jpgsa\\Documents\\GitHub\\autodoc-task\\autodoc-task-jan-2024\\database_files\\task_dataset.db\"\n",
    "DRIVE_PATH = r\"G:\\Meu Drive\\autodoc_task\" + \"\\\\\"\n",
    "GITHUB_PATH = r\"C:\\Users\\jpgsa\\Documents\\GitHub\\autodoc-task\\autodoc-task-jan-2024\\task_files\\others\" + \"\\\\\""
   ]
  },
  {
   "cell_type": "markdown",
   "metadata": {},
   "source": [
    "Connecting to the DB, creating Pandas DFs and sending to Google Drive as CSV"
   ]
  },
  {
   "cell_type": "code",
   "execution_count": 28,
   "metadata": {},
   "outputs": [
    {
     "name": "stdout",
     "output_type": "stream",
     "text": [
      "Table tb_sessions added to drive and github.\n",
      "Table tb_users added to drive and github.\n",
      "Table tb_products added to drive and github.\n",
      "Table tb_funnel_1 added to drive and github.\n",
      "Table tb_pages added to drive and github.\n",
      "Table tb_users_agg added to drive and github.\n"
     ]
    }
   ],
   "source": [
    "engine = sqlalchemy.create_engine(\"sqlite:///\" + DB_PATH)\n",
    "\n",
    "tables = [\"tb_sessions\", \n",
    "          \"tb_users\", \n",
    "          \"tb_products\",\n",
    "          \"tb_funnel_1\",\n",
    "          \"tb_pages\",\n",
    "          \"tb_users_agg\"]\n",
    "\n",
    "for table in tables:\n",
    "    df_table = pd.read_sql_table(table, engine)\n",
    "    df_table.to_csv(DRIVE_PATH + table + \".csv\", index=False)\n",
    "    df_table.to_csv(GITHUB_PATH + table + \".csv\", index=False)\n",
    "    print (\"Table {} added to drive and github.\".format(table))"
   ]
  }
 ],
 "metadata": {
  "kernelspec": {
   "display_name": "Python 3",
   "language": "python",
   "name": "python3"
  },
  "language_info": {
   "codemirror_mode": {
    "name": "ipython",
    "version": 3
   },
   "file_extension": ".py",
   "mimetype": "text/x-python",
   "name": "python",
   "nbconvert_exporter": "python",
   "pygments_lexer": "ipython3",
   "version": "3.10.1"
  }
 },
 "nbformat": 4,
 "nbformat_minor": 2
}
